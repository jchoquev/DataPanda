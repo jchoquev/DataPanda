{
  "nbformat": 4,
  "nbformat_minor": 0,
  "metadata": {
    "colab": {
      "name": "Corrupcion.ipynb",
      "provenance": [],
      "collapsed_sections": [],
      "authorship_tag": "ABX9TyOE/S2QtCuEHVbzB6mcLLLy",
      "include_colab_link": true
    },
    "kernelspec": {
      "name": "python3",
      "display_name": "Python 3"
    },
    "language_info": {
      "name": "python"
    }
  },
  "cells": [
    {
      "cell_type": "markdown",
      "metadata": {
        "id": "view-in-github",
        "colab_type": "text"
      },
      "source": [
        "<a href=\"https://colab.research.google.com/github/jchoquev/DataPanda/blob/main/Corrupcion.ipynb\" target=\"_parent\"><img src=\"https://colab.research.google.com/assets/colab-badge.svg\" alt=\"Open In Colab\"/></a>"
      ]
    },
    {
      "cell_type": "markdown",
      "metadata": {
        "id": "xc39XRK5VE1y"
      },
      "source": [
        "#**Corrupción para los ricos y los pobres en Perù:**\n",
        "##¿Quién la soporta aún más?*"
      ]
    },
    {
      "cell_type": "code",
      "metadata": {
        "id": "OaoRx21ENcPK",
        "colab": {
          "base_uri": "https://localhost:8080/"
        },
        "outputId": "6e17f041-6278-4129-ae64-a366d6171266"
      },
      "source": [
        "import pandas as pd\n",
        "import matplotlib.pyplot as plt\n",
        "import seaborn as sns\n",
        "import numpy as np\n",
        "from sklearn import linear_model\n",
        "import statsmodels.api as sm"
      ],
      "execution_count": 1,
      "outputs": [
        {
          "output_type": "stream",
          "name": "stderr",
          "text": [
            "/usr/local/lib/python3.7/dist-packages/statsmodels/tools/_testing.py:19: FutureWarning: pandas.util.testing is deprecated. Use the functions in the public API at pandas.testing instead.\n",
            "  import pandas.util.testing as tm\n"
          ]
        }
      ]
    },
    {
      "cell_type": "markdown",
      "metadata": {
        "id": "KI_k9OX7Ta7z"
      },
      "source": [
        "HI -> Participación en el ingreso (nacional) que tiene el 10% más rico  \n",
        "LI -> Participación en el ingreso (nacional) que tiene el 10% más pobre  \n",
        "CPI -> Percepción de la corrupción  \n",
        "GE -> Eficacia del gobierno  \n",
        "GINI -> índice de Gini  \n",
        "CC -> Control o lucha en contra de la corrupción\n"
      ]
    },
    {
      "cell_type": "code",
      "metadata": {
        "colab": {
          "base_uri": "https://localhost:8080/",
          "height": 638
        },
        "id": "0kLD8WqROOLZ",
        "outputId": "cc7cadc2-5236-4110-e6ad-0d8a21aeba3f"
      },
      "source": [
        "data=pd.read_csv(\"https://raw.githubusercontent.com/jchoquev/DataPanda/main/DataCorrupcion.csv\",index_col=\"Tiempo\",sep=\";\")\n",
        "data"
      ],
      "execution_count": 2,
      "outputs": [
        {
          "output_type": "execute_result",
          "data": {
            "text/html": [
              "<div>\n",
              "<style scoped>\n",
              "    .dataframe tbody tr th:only-of-type {\n",
              "        vertical-align: middle;\n",
              "    }\n",
              "\n",
              "    .dataframe tbody tr th {\n",
              "        vertical-align: top;\n",
              "    }\n",
              "\n",
              "    .dataframe thead th {\n",
              "        text-align: right;\n",
              "    }\n",
              "</style>\n",
              "<table border=\"1\" class=\"dataframe\">\n",
              "  <thead>\n",
              "    <tr style=\"text-align: right;\">\n",
              "      <th></th>\n",
              "      <th>CPI</th>\n",
              "      <th>HI</th>\n",
              "      <th>LI</th>\n",
              "      <th>GINI</th>\n",
              "      <th>GE</th>\n",
              "      <th>CC</th>\n",
              "    </tr>\n",
              "    <tr>\n",
              "      <th>Tiempo</th>\n",
              "      <th></th>\n",
              "      <th></th>\n",
              "      <th></th>\n",
              "      <th></th>\n",
              "      <th></th>\n",
              "      <th></th>\n",
              "    </tr>\n",
              "  </thead>\n",
              "  <tbody>\n",
              "    <tr>\n",
              "      <th>2002</th>\n",
              "      <td>40</td>\n",
              "      <td>42.1</td>\n",
              "      <td>1.1</td>\n",
              "      <td>53.6</td>\n",
              "      <td>-0.341011</td>\n",
              "      <td>-0.273120</td>\n",
              "    </tr>\n",
              "    <tr>\n",
              "      <th>2003</th>\n",
              "      <td>37</td>\n",
              "      <td>42.2</td>\n",
              "      <td>1.3</td>\n",
              "      <td>53.1</td>\n",
              "      <td>-0.438426</td>\n",
              "      <td>-0.076417</td>\n",
              "    </tr>\n",
              "    <tr>\n",
              "      <th>2004</th>\n",
              "      <td>35</td>\n",
              "      <td>38.0</td>\n",
              "      <td>1.3</td>\n",
              "      <td>49.9</td>\n",
              "      <td>-0.512241</td>\n",
              "      <td>-0.321763</td>\n",
              "    </tr>\n",
              "    <tr>\n",
              "      <th>2005</th>\n",
              "      <td>35</td>\n",
              "      <td>38.5</td>\n",
              "      <td>1.2</td>\n",
              "      <td>50.4</td>\n",
              "      <td>-0.612720</td>\n",
              "      <td>-0.329965</td>\n",
              "    </tr>\n",
              "    <tr>\n",
              "      <th>2006</th>\n",
              "      <td>33</td>\n",
              "      <td>38.2</td>\n",
              "      <td>1.2</td>\n",
              "      <td>50.3</td>\n",
              "      <td>-0.669352</td>\n",
              "      <td>-0.200190</td>\n",
              "    </tr>\n",
              "    <tr>\n",
              "      <th>2007</th>\n",
              "      <td>35</td>\n",
              "      <td>37.8</td>\n",
              "      <td>1.2</td>\n",
              "      <td>50.0</td>\n",
              "      <td>-0.521256</td>\n",
              "      <td>-0.246271</td>\n",
              "    </tr>\n",
              "    <tr>\n",
              "      <th>2008</th>\n",
              "      <td>36</td>\n",
              "      <td>35.4</td>\n",
              "      <td>1.3</td>\n",
              "      <td>47.5</td>\n",
              "      <td>-0.356438</td>\n",
              "      <td>-0.186954</td>\n",
              "    </tr>\n",
              "    <tr>\n",
              "      <th>2009</th>\n",
              "      <td>37</td>\n",
              "      <td>35.2</td>\n",
              "      <td>1.4</td>\n",
              "      <td>47.0</td>\n",
              "      <td>-0.416684</td>\n",
              "      <td>-0.305230</td>\n",
              "    </tr>\n",
              "    <tr>\n",
              "      <th>2010</th>\n",
              "      <td>35</td>\n",
              "      <td>34.2</td>\n",
              "      <td>1.5</td>\n",
              "      <td>45.5</td>\n",
              "      <td>-0.191171</td>\n",
              "      <td>-0.228811</td>\n",
              "    </tr>\n",
              "    <tr>\n",
              "      <th>2011</th>\n",
              "      <td>34</td>\n",
              "      <td>33.5</td>\n",
              "      <td>1.5</td>\n",
              "      <td>44.7</td>\n",
              "      <td>-0.157188</td>\n",
              "      <td>-0.219959</td>\n",
              "    </tr>\n",
              "    <tr>\n",
              "      <th>2012</th>\n",
              "      <td>38</td>\n",
              "      <td>33.3</td>\n",
              "      <td>1.5</td>\n",
              "      <td>44.4</td>\n",
              "      <td>-0.144916</td>\n",
              "      <td>-0.370450</td>\n",
              "    </tr>\n",
              "    <tr>\n",
              "      <th>2013</th>\n",
              "      <td>38</td>\n",
              "      <td>32.7</td>\n",
              "      <td>1.6</td>\n",
              "      <td>43.9</td>\n",
              "      <td>-0.114771</td>\n",
              "      <td>-0.423487</td>\n",
              "    </tr>\n",
              "    <tr>\n",
              "      <th>2014</th>\n",
              "      <td>38</td>\n",
              "      <td>32.2</td>\n",
              "      <td>1.6</td>\n",
              "      <td>43.1</td>\n",
              "      <td>-0.266778</td>\n",
              "      <td>-0.560316</td>\n",
              "    </tr>\n",
              "    <tr>\n",
              "      <th>2015</th>\n",
              "      <td>36</td>\n",
              "      <td>32.6</td>\n",
              "      <td>1.6</td>\n",
              "      <td>43.4</td>\n",
              "      <td>-0.276988</td>\n",
              "      <td>-0.533841</td>\n",
              "    </tr>\n",
              "    <tr>\n",
              "      <th>2016</th>\n",
              "      <td>35</td>\n",
              "      <td>32.6</td>\n",
              "      <td>1.6</td>\n",
              "      <td>43.6</td>\n",
              "      <td>-0.178618</td>\n",
              "      <td>-0.367378</td>\n",
              "    </tr>\n",
              "    <tr>\n",
              "      <th>2017</th>\n",
              "      <td>37</td>\n",
              "      <td>32.3</td>\n",
              "      <td>1.7</td>\n",
              "      <td>43.3</td>\n",
              "      <td>-0.129533</td>\n",
              "      <td>-0.496270</td>\n",
              "    </tr>\n",
              "    <tr>\n",
              "      <th>2018</th>\n",
              "      <td>35</td>\n",
              "      <td>31.6</td>\n",
              "      <td>1.8</td>\n",
              "      <td>42.4</td>\n",
              "      <td>-0.245431</td>\n",
              "      <td>-0.531884</td>\n",
              "    </tr>\n",
              "    <tr>\n",
              "      <th>2019</th>\n",
              "      <td>36</td>\n",
              "      <td>31.1</td>\n",
              "      <td>1.9</td>\n",
              "      <td>41.5</td>\n",
              "      <td>-0.067546</td>\n",
              "      <td>-0.447691</td>\n",
              "    </tr>\n",
              "  </tbody>\n",
              "</table>\n",
              "</div>"
            ],
            "text/plain": [
              "        CPI    HI   LI  GINI        GE        CC\n",
              "Tiempo                                          \n",
              "2002     40  42.1  1.1  53.6 -0.341011 -0.273120\n",
              "2003     37  42.2  1.3  53.1 -0.438426 -0.076417\n",
              "2004     35  38.0  1.3  49.9 -0.512241 -0.321763\n",
              "2005     35  38.5  1.2  50.4 -0.612720 -0.329965\n",
              "2006     33  38.2  1.2  50.3 -0.669352 -0.200190\n",
              "2007     35  37.8  1.2  50.0 -0.521256 -0.246271\n",
              "2008     36  35.4  1.3  47.5 -0.356438 -0.186954\n",
              "2009     37  35.2  1.4  47.0 -0.416684 -0.305230\n",
              "2010     35  34.2  1.5  45.5 -0.191171 -0.228811\n",
              "2011     34  33.5  1.5  44.7 -0.157188 -0.219959\n",
              "2012     38  33.3  1.5  44.4 -0.144916 -0.370450\n",
              "2013     38  32.7  1.6  43.9 -0.114771 -0.423487\n",
              "2014     38  32.2  1.6  43.1 -0.266778 -0.560316\n",
              "2015     36  32.6  1.6  43.4 -0.276988 -0.533841\n",
              "2016     35  32.6  1.6  43.6 -0.178618 -0.367378\n",
              "2017     37  32.3  1.7  43.3 -0.129533 -0.496270\n",
              "2018     35  31.6  1.8  42.4 -0.245431 -0.531884\n",
              "2019     36  31.1  1.9  41.5 -0.067546 -0.447691"
            ]
          },
          "metadata": {},
          "execution_count": 2
        }
      ]
    },
    {
      "cell_type": "code",
      "metadata": {
        "id": "ScSxdDzThEVb"
      },
      "source": [
        "data=data.assign(LNCPI=np.log10(data.CPI))\n",
        "data=data.assign(LNHI=np.log10(data.HI))\n",
        "data=data.assign(LNLI=np.log10(data.LI))\n",
        "data=data.assign(LNGINI=np.log10(data.GINI))\n",
        "#data=data.assign(LNGE=(-1)*np.log10(-1*data.GE))"
      ],
      "execution_count": 5,
      "outputs": []
    },
    {
      "cell_type": "code",
      "metadata": {
        "colab": {
          "base_uri": "https://localhost:8080/",
          "height": 638
        },
        "id": "-6tBtcTqhpVm",
        "outputId": "405418aa-14c5-45c8-aa23-8fae7becfe37"
      },
      "source": [
        "data[['LNHI','LNLI','LNCPI','LNGINI','GE','CC']]"
      ],
      "execution_count": 7,
      "outputs": [
        {
          "output_type": "execute_result",
          "data": {
            "text/html": [
              "<div>\n",
              "<style scoped>\n",
              "    .dataframe tbody tr th:only-of-type {\n",
              "        vertical-align: middle;\n",
              "    }\n",
              "\n",
              "    .dataframe tbody tr th {\n",
              "        vertical-align: top;\n",
              "    }\n",
              "\n",
              "    .dataframe thead th {\n",
              "        text-align: right;\n",
              "    }\n",
              "</style>\n",
              "<table border=\"1\" class=\"dataframe\">\n",
              "  <thead>\n",
              "    <tr style=\"text-align: right;\">\n",
              "      <th></th>\n",
              "      <th>LNHI</th>\n",
              "      <th>LNLI</th>\n",
              "      <th>LNCPI</th>\n",
              "      <th>LNGINI</th>\n",
              "      <th>GE</th>\n",
              "      <th>CC</th>\n",
              "    </tr>\n",
              "    <tr>\n",
              "      <th>Tiempo</th>\n",
              "      <th></th>\n",
              "      <th></th>\n",
              "      <th></th>\n",
              "      <th></th>\n",
              "      <th></th>\n",
              "      <th></th>\n",
              "    </tr>\n",
              "  </thead>\n",
              "  <tbody>\n",
              "    <tr>\n",
              "      <th>2002</th>\n",
              "      <td>1.624282</td>\n",
              "      <td>0.041393</td>\n",
              "      <td>1.602060</td>\n",
              "      <td>1.729165</td>\n",
              "      <td>-0.341011</td>\n",
              "      <td>-0.273120</td>\n",
              "    </tr>\n",
              "    <tr>\n",
              "      <th>2003</th>\n",
              "      <td>1.625312</td>\n",
              "      <td>0.113943</td>\n",
              "      <td>1.568202</td>\n",
              "      <td>1.725095</td>\n",
              "      <td>-0.438426</td>\n",
              "      <td>-0.076417</td>\n",
              "    </tr>\n",
              "    <tr>\n",
              "      <th>2004</th>\n",
              "      <td>1.579784</td>\n",
              "      <td>0.113943</td>\n",
              "      <td>1.544068</td>\n",
              "      <td>1.698101</td>\n",
              "      <td>-0.512241</td>\n",
              "      <td>-0.321763</td>\n",
              "    </tr>\n",
              "    <tr>\n",
              "      <th>2005</th>\n",
              "      <td>1.585461</td>\n",
              "      <td>0.079181</td>\n",
              "      <td>1.544068</td>\n",
              "      <td>1.702431</td>\n",
              "      <td>-0.612720</td>\n",
              "      <td>-0.329965</td>\n",
              "    </tr>\n",
              "    <tr>\n",
              "      <th>2006</th>\n",
              "      <td>1.582063</td>\n",
              "      <td>0.079181</td>\n",
              "      <td>1.518514</td>\n",
              "      <td>1.701568</td>\n",
              "      <td>-0.669352</td>\n",
              "      <td>-0.200190</td>\n",
              "    </tr>\n",
              "    <tr>\n",
              "      <th>2007</th>\n",
              "      <td>1.577492</td>\n",
              "      <td>0.079181</td>\n",
              "      <td>1.544068</td>\n",
              "      <td>1.698970</td>\n",
              "      <td>-0.521256</td>\n",
              "      <td>-0.246271</td>\n",
              "    </tr>\n",
              "    <tr>\n",
              "      <th>2008</th>\n",
              "      <td>1.549003</td>\n",
              "      <td>0.113943</td>\n",
              "      <td>1.556303</td>\n",
              "      <td>1.676694</td>\n",
              "      <td>-0.356438</td>\n",
              "      <td>-0.186954</td>\n",
              "    </tr>\n",
              "    <tr>\n",
              "      <th>2009</th>\n",
              "      <td>1.546543</td>\n",
              "      <td>0.146128</td>\n",
              "      <td>1.568202</td>\n",
              "      <td>1.672098</td>\n",
              "      <td>-0.416684</td>\n",
              "      <td>-0.305230</td>\n",
              "    </tr>\n",
              "    <tr>\n",
              "      <th>2010</th>\n",
              "      <td>1.534026</td>\n",
              "      <td>0.176091</td>\n",
              "      <td>1.544068</td>\n",
              "      <td>1.658011</td>\n",
              "      <td>-0.191171</td>\n",
              "      <td>-0.228811</td>\n",
              "    </tr>\n",
              "    <tr>\n",
              "      <th>2011</th>\n",
              "      <td>1.525045</td>\n",
              "      <td>0.176091</td>\n",
              "      <td>1.531479</td>\n",
              "      <td>1.650308</td>\n",
              "      <td>-0.157188</td>\n",
              "      <td>-0.219959</td>\n",
              "    </tr>\n",
              "    <tr>\n",
              "      <th>2012</th>\n",
              "      <td>1.522444</td>\n",
              "      <td>0.176091</td>\n",
              "      <td>1.579784</td>\n",
              "      <td>1.647383</td>\n",
              "      <td>-0.144916</td>\n",
              "      <td>-0.370450</td>\n",
              "    </tr>\n",
              "    <tr>\n",
              "      <th>2013</th>\n",
              "      <td>1.514548</td>\n",
              "      <td>0.204120</td>\n",
              "      <td>1.579784</td>\n",
              "      <td>1.642465</td>\n",
              "      <td>-0.114771</td>\n",
              "      <td>-0.423487</td>\n",
              "    </tr>\n",
              "    <tr>\n",
              "      <th>2014</th>\n",
              "      <td>1.507856</td>\n",
              "      <td>0.204120</td>\n",
              "      <td>1.579784</td>\n",
              "      <td>1.634477</td>\n",
              "      <td>-0.266778</td>\n",
              "      <td>-0.560316</td>\n",
              "    </tr>\n",
              "    <tr>\n",
              "      <th>2015</th>\n",
              "      <td>1.513218</td>\n",
              "      <td>0.204120</td>\n",
              "      <td>1.556303</td>\n",
              "      <td>1.637490</td>\n",
              "      <td>-0.276988</td>\n",
              "      <td>-0.533841</td>\n",
              "    </tr>\n",
              "    <tr>\n",
              "      <th>2016</th>\n",
              "      <td>1.513218</td>\n",
              "      <td>0.204120</td>\n",
              "      <td>1.544068</td>\n",
              "      <td>1.639486</td>\n",
              "      <td>-0.178618</td>\n",
              "      <td>-0.367378</td>\n",
              "    </tr>\n",
              "    <tr>\n",
              "      <th>2017</th>\n",
              "      <td>1.509203</td>\n",
              "      <td>0.230449</td>\n",
              "      <td>1.568202</td>\n",
              "      <td>1.636488</td>\n",
              "      <td>-0.129533</td>\n",
              "      <td>-0.496270</td>\n",
              "    </tr>\n",
              "    <tr>\n",
              "      <th>2018</th>\n",
              "      <td>1.499687</td>\n",
              "      <td>0.255273</td>\n",
              "      <td>1.544068</td>\n",
              "      <td>1.627366</td>\n",
              "      <td>-0.245431</td>\n",
              "      <td>-0.531884</td>\n",
              "    </tr>\n",
              "    <tr>\n",
              "      <th>2019</th>\n",
              "      <td>1.492760</td>\n",
              "      <td>0.278754</td>\n",
              "      <td>1.556303</td>\n",
              "      <td>1.618048</td>\n",
              "      <td>-0.067546</td>\n",
              "      <td>-0.447691</td>\n",
              "    </tr>\n",
              "  </tbody>\n",
              "</table>\n",
              "</div>"
            ],
            "text/plain": [
              "            LNHI      LNLI     LNCPI    LNGINI        GE        CC\n",
              "Tiempo                                                            \n",
              "2002    1.624282  0.041393  1.602060  1.729165 -0.341011 -0.273120\n",
              "2003    1.625312  0.113943  1.568202  1.725095 -0.438426 -0.076417\n",
              "2004    1.579784  0.113943  1.544068  1.698101 -0.512241 -0.321763\n",
              "2005    1.585461  0.079181  1.544068  1.702431 -0.612720 -0.329965\n",
              "2006    1.582063  0.079181  1.518514  1.701568 -0.669352 -0.200190\n",
              "2007    1.577492  0.079181  1.544068  1.698970 -0.521256 -0.246271\n",
              "2008    1.549003  0.113943  1.556303  1.676694 -0.356438 -0.186954\n",
              "2009    1.546543  0.146128  1.568202  1.672098 -0.416684 -0.305230\n",
              "2010    1.534026  0.176091  1.544068  1.658011 -0.191171 -0.228811\n",
              "2011    1.525045  0.176091  1.531479  1.650308 -0.157188 -0.219959\n",
              "2012    1.522444  0.176091  1.579784  1.647383 -0.144916 -0.370450\n",
              "2013    1.514548  0.204120  1.579784  1.642465 -0.114771 -0.423487\n",
              "2014    1.507856  0.204120  1.579784  1.634477 -0.266778 -0.560316\n",
              "2015    1.513218  0.204120  1.556303  1.637490 -0.276988 -0.533841\n",
              "2016    1.513218  0.204120  1.544068  1.639486 -0.178618 -0.367378\n",
              "2017    1.509203  0.230449  1.568202  1.636488 -0.129533 -0.496270\n",
              "2018    1.499687  0.255273  1.544068  1.627366 -0.245431 -0.531884\n",
              "2019    1.492760  0.278754  1.556303  1.618048 -0.067546 -0.447691"
            ]
          },
          "metadata": {},
          "execution_count": 7
        }
      ]
    },
    {
      "cell_type": "code",
      "metadata": {
        "colab": {
          "base_uri": "https://localhost:8080/"
        },
        "id": "1L-VQI45CY_j",
        "outputId": "f0762534-e68f-4335-9dfa-a2b134d78f72"
      },
      "source": [
        "datas = data[['LNCPI','GE','LNGINI','CC']]\n",
        "datas.exog = sm.add_constant(datas)\n",
        "res = sm.RLM(data[['LNLI']],datas.exog ).fit()\n",
        "print(res.summary())"
      ],
      "execution_count": 8,
      "outputs": [
        {
          "output_type": "stream",
          "name": "stdout",
          "text": [
            "                    Robust linear Model Regression Results                    \n",
            "==============================================================================\n",
            "Dep. Variable:                   LNLI   No. Observations:                   18\n",
            "Model:                            RLM   Df Residuals:                       13\n",
            "Method:                          IRLS   Df Model:                            4\n",
            "Norm:                          HuberT                                         \n",
            "Scale Est.:                       mad                                         \n",
            "Cov Type:                          H1                                         \n",
            "Date:                Tue, 31 Aug 2021                                         \n",
            "Time:                        22:27:38                                         \n",
            "No. Iterations:                    31                                         \n",
            "==============================================================================\n",
            "                 coef    std err          z      P>|z|      [0.025      0.975]\n",
            "------------------------------------------------------------------------------\n",
            "const          2.9352      0.452      6.491      0.000       2.049       3.821\n",
            "LNCPI         -0.4449      0.370     -1.203      0.229      -1.170       0.280\n",
            "GE             0.1000      0.065      1.549      0.121      -0.027       0.227\n",
            "LNGINI        -1.2533      0.447     -2.806      0.005      -2.129      -0.378\n",
            "CC            -0.1010      0.069     -1.473      0.141      -0.235       0.033\n",
            "==============================================================================\n",
            "\n",
            "If the model instance has been used for another fit with different fit\n",
            "parameters, then the fit options might not be the correct ones anymore .\n"
          ]
        },
        {
          "output_type": "stream",
          "name": "stderr",
          "text": [
            "/usr/local/lib/python3.7/dist-packages/ipykernel_launcher.py:2: UserWarning: Pandas doesn't allow columns to be created via a new attribute name - see https://pandas.pydata.org/pandas-docs/stable/indexing.html#attribute-access\n",
            "  \n"
          ]
        }
      ]
    },
    {
      "cell_type": "code",
      "metadata": {
        "colab": {
          "base_uri": "https://localhost:8080/"
        },
        "id": "sLkvawcMCDSm",
        "outputId": "e4a76e49-8887-43f0-87f9-e7c1298999aa"
      },
      "source": [
        "datas = data[['LNCPI','GE','LNGINI','CC']]\n",
        "datas.exog = sm.add_constant(datas)\n",
        "res = sm.RLM(data[['LNHI']], datas.exog).fit()\n",
        "print(res.summary())"
      ],
      "execution_count": 9,
      "outputs": [
        {
          "output_type": "stream",
          "name": "stdout",
          "text": [
            "                    Robust linear Model Regression Results                    \n",
            "==============================================================================\n",
            "Dep. Variable:                   LNHI   No. Observations:                   18\n",
            "Model:                            RLM   Df Residuals:                       13\n",
            "Method:                          IRLS   Df Model:                            4\n",
            "Norm:                          HuberT                                         \n",
            "Scale Est.:                       mad                                         \n",
            "Cov Type:                          H1                                         \n",
            "Date:                Tue, 31 Aug 2021                                         \n",
            "Time:                        22:27:42                                         \n",
            "No. Iterations:                    15                                         \n",
            "==============================================================================\n",
            "                 coef    std err          z      P>|z|      [0.025      0.975]\n",
            "------------------------------------------------------------------------------\n",
            "const         -0.6106      0.071     -8.627      0.000      -0.749      -0.472\n",
            "LNCPI         -0.0814      0.058     -1.406      0.160      -0.195       0.032\n",
            "GE             0.0296      0.010      2.926      0.003       0.010       0.049\n",
            "LNGINI         1.3684      0.070     19.571      0.000       1.231       1.505\n",
            "CC            -0.0303      0.011     -2.821      0.005      -0.051      -0.009\n",
            "==============================================================================\n",
            "\n",
            "If the model instance has been used for another fit with different fit\n",
            "parameters, then the fit options might not be the correct ones anymore .\n"
          ]
        },
        {
          "output_type": "stream",
          "name": "stderr",
          "text": [
            "/usr/local/lib/python3.7/dist-packages/ipykernel_launcher.py:2: UserWarning: Pandas doesn't allow columns to be created via a new attribute name - see https://pandas.pydata.org/pandas-docs/stable/indexing.html#attribute-access\n",
            "  \n"
          ]
        }
      ]
    },
    {
      "cell_type": "code",
      "metadata": {
        "colab": {
          "base_uri": "https://localhost:8080/",
          "height": 235
        },
        "id": "FWMsCyuvO8qe",
        "outputId": "be5037ef-f37c-471b-d834-6c6d63b1d1ab"
      },
      "source": [
        "cont=data.corr(method=\"spearman\")\n",
        "cont"
      ],
      "execution_count": 3,
      "outputs": [
        {
          "output_type": "execute_result",
          "data": {
            "text/html": [
              "<div>\n",
              "<style scoped>\n",
              "    .dataframe tbody tr th:only-of-type {\n",
              "        vertical-align: middle;\n",
              "    }\n",
              "\n",
              "    .dataframe tbody tr th {\n",
              "        vertical-align: top;\n",
              "    }\n",
              "\n",
              "    .dataframe thead th {\n",
              "        text-align: right;\n",
              "    }\n",
              "</style>\n",
              "<table border=\"1\" class=\"dataframe\">\n",
              "  <thead>\n",
              "    <tr style=\"text-align: right;\">\n",
              "      <th></th>\n",
              "      <th>CPI</th>\n",
              "      <th>HI</th>\n",
              "      <th>LI</th>\n",
              "      <th>GINI</th>\n",
              "      <th>GE</th>\n",
              "      <th>CC</th>\n",
              "    </tr>\n",
              "  </thead>\n",
              "  <tbody>\n",
              "    <tr>\n",
              "      <th>CPI</th>\n",
              "      <td>1.000000</td>\n",
              "      <td>-0.107439</td>\n",
              "      <td>0.133238</td>\n",
              "      <td>-0.101565</td>\n",
              "      <td>0.336434</td>\n",
              "      <td>-0.330086</td>\n",
              "    </tr>\n",
              "    <tr>\n",
              "      <th>HI</th>\n",
              "      <td>-0.107439</td>\n",
              "      <td>1.000000</td>\n",
              "      <td>-0.948360</td>\n",
              "      <td>0.995354</td>\n",
              "      <td>-0.756841</td>\n",
              "      <td>0.783686</td>\n",
              "    </tr>\n",
              "    <tr>\n",
              "      <th>LI</th>\n",
              "      <td>0.133238</td>\n",
              "      <td>-0.948360</td>\n",
              "      <td>1.000000</td>\n",
              "      <td>-0.964573</td>\n",
              "      <td>0.801723</td>\n",
              "      <td>-0.722386</td>\n",
              "    </tr>\n",
              "    <tr>\n",
              "      <th>GINI</th>\n",
              "      <td>-0.101565</td>\n",
              "      <td>0.995354</td>\n",
              "      <td>-0.964573</td>\n",
              "      <td>1.000000</td>\n",
              "      <td>-0.748194</td>\n",
              "      <td>0.783282</td>\n",
              "    </tr>\n",
              "    <tr>\n",
              "      <th>GE</th>\n",
              "      <td>0.336434</td>\n",
              "      <td>-0.756841</td>\n",
              "      <td>0.801723</td>\n",
              "      <td>-0.748194</td>\n",
              "      <td>1.000000</td>\n",
              "      <td>-0.488132</td>\n",
              "    </tr>\n",
              "    <tr>\n",
              "      <th>CC</th>\n",
              "      <td>-0.330086</td>\n",
              "      <td>0.783686</td>\n",
              "      <td>-0.722386</td>\n",
              "      <td>0.783282</td>\n",
              "      <td>-0.488132</td>\n",
              "      <td>1.000000</td>\n",
              "    </tr>\n",
              "  </tbody>\n",
              "</table>\n",
              "</div>"
            ],
            "text/plain": [
              "           CPI        HI        LI      GINI        GE        CC\n",
              "CPI   1.000000 -0.107439  0.133238 -0.101565  0.336434 -0.330086\n",
              "HI   -0.107439  1.000000 -0.948360  0.995354 -0.756841  0.783686\n",
              "LI    0.133238 -0.948360  1.000000 -0.964573  0.801723 -0.722386\n",
              "GINI -0.101565  0.995354 -0.964573  1.000000 -0.748194  0.783282\n",
              "GE    0.336434 -0.756841  0.801723 -0.748194  1.000000 -0.488132\n",
              "CC   -0.330086  0.783686 -0.722386  0.783282 -0.488132  1.000000"
            ]
          },
          "metadata": {},
          "execution_count": 3
        }
      ]
    },
    {
      "cell_type": "code",
      "metadata": {
        "colab": {
          "base_uri": "https://localhost:8080/",
          "height": 286
        },
        "id": "P1GD_IyFP0Bh",
        "outputId": "a0133b85-e12a-42fa-9703-e486b988645e"
      },
      "source": [
        "sns.heatmap(cont,\n",
        "            xticklabels=cont.columns,\n",
        "            yticklabels=cont.columns,\n",
        "            cmap='coolwarm')"
      ],
      "execution_count": 4,
      "outputs": [
        {
          "output_type": "execute_result",
          "data": {
            "text/plain": [
              "<matplotlib.axes._subplots.AxesSubplot at 0x7f940a612e10>"
            ]
          },
          "metadata": {},
          "execution_count": 4
        },
        {
          "output_type": "display_data",
          "data": {
            "image/png": "[encoded data removed]",
            "text/plain": [
              "<Figure size 432x288 with 2 Axes>"
            ]
          },
          "metadata": {
            "needs_background": "light"
          }
        }
      ]
    },
    {
      "cell_type": "code",
      "metadata": {
        "colab": {
          "base_uri": "https://localhost:8080/",
          "height": 51
        },
        "id": "vMeuBvIi6jaB",
        "outputId": "6c5d7c97-113c-4e5b-9b12-fc1c7362f420"
      },
      "source": [
        "plt.figure(figsize=(12,8))\n",
        "lr=linear_model.LinearRegression()\n",
        "lr.fit(data[['LNHI']],data[['LNCPI','GE','LNGINI','CC']])"
      ],
      "execution_count": null,
      "outputs": [
        {
          "output_type": "execute_result",
          "data": {
            "text/plain": [
              "LinearRegression(copy_X=True, fit_intercept=True, n_jobs=None, normalize=False)"
            ]
          },
          "metadata": {},
          "execution_count": 10
        },
        {
          "output_type": "display_data",
          "data": {
            "text/plain": [
              "<Figure size 864x576 with 0 Axes>"
            ]
          },
          "metadata": {}
        }
      ]
    },
    {
      "cell_type": "code",
      "metadata": {
        "colab": {
          "base_uri": "https://localhost:8080/"
        },
        "id": "rv2FbJVx7Tr7",
        "outputId": "0204cca5-43b0-478d-9d4f-ba0b3ee9cb92"
      },
      "source": [
        "ransac=linear_model.RANSACRegressor()\n",
        "lr.fit(data[['LNHI']],data[['LNCPI','GE','LNGINI','CC']])\n",
        "#inliers_mask=ransac.\n",
        "#outlier_mask=np.logical_not(inlier_mask)"
      ],
      "execution_count": null,
      "outputs": [
        {
          "output_type": "execute_result",
          "data": {
            "text/plain": [
              "LinearRegression(copy_X=True, fit_intercept=True, n_jobs=None, normalize=False)"
            ]
          },
          "metadata": {},
          "execution_count": 23
        }
      ]
    },
    {
      "cell_type": "code",
      "metadata": {
        "colab": {
          "base_uri": "https://localhost:8080/"
        },
        "id": "iC0U5eDl-Fb9",
        "outputId": "73983907-5c8f-4a4b-8426-fafc8af134ef"
      },
      "source": [
        "data[['LNHI']].min()"
      ],
      "execution_count": null,
      "outputs": [
        {
          "output_type": "execute_result",
          "data": {
            "text/plain": [
              "LNHI    1.49276\n",
              "dtype: float64"
            ]
          },
          "metadata": {},
          "execution_count": 18
        }
      ]
    },
    {
      "cell_type": "code",
      "metadata": {
        "id": "qwL838Tl8sQy"
      },
      "source": [
        "X=data[['LNHI']]\n",
        "#line_x=np.arange(data[['LNHI']].min(),data[['LNHI']].max())[:,np.newaxis]\n",
        "line_x=np.arange(X.min(),X.max())[:,np.newaxis] \n",
        "\n",
        "line_y=lr.predict(line_x)\n",
        "line_y_ransac=ransac.predict(line_x)"
      ],
      "execution_count": null,
      "outputs": []
    }
  ]
}